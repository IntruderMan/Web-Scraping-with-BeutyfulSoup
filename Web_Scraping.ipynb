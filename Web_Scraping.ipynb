{
 "cells": [
  {
   "cell_type": "code",
   "execution_count": 1,
   "id": "7b452dc7",
   "metadata": {},
   "outputs": [
    {
     "name": "stderr",
     "output_type": "stream",
     "text": [
      "/usr/lib/python3/dist-packages/requests/__init__.py:89: RequestsDependencyWarning: urllib3 (1.26.12) or chardet (3.0.4) doesn't match a supported version!\n",
      "  warnings.warn(\"urllib3 ({}) or chardet ({}) doesn't match a supported \"\n"
     ]
    }
   ],
   "source": [
    "import bs4\n",
    "from bs4 import BeautifulSoup as bs\n",
    "import requests"
   ]
  },
  {
   "cell_type": "code",
   "execution_count": 2,
   "id": "b7e39be6",
   "metadata": {},
   "outputs": [],
   "source": [
    "link = 'https://www.flipkart.com/search?q=apple&otracker=search&otracker1=search&marketplace=FLIPKART&as-show=on&as=off'"
   ]
  },
  {
   "cell_type": "code",
   "execution_count": 3,
   "id": "24288006",
   "metadata": {},
   "outputs": [],
   "source": [
    "page = requests.get(link)\n",
    "# page.content"
   ]
  },
  {
   "cell_type": "code",
   "execution_count": 4,
   "id": "1f72e1a8",
   "metadata": {},
   "outputs": [],
   "source": [
    "soup = bs(page.content, 'html.parser')\n",
    "# print(soup.prettify())"
   ]
  },
  {
   "cell_type": "code",
   "execution_count": 5,
   "id": "141c01ef",
   "metadata": {},
   "outputs": [],
   "source": [
    "List = []\n",
    "Name =[]\n",
    "Price = []\n",
    "Usrt = []\n",
    "Spcfn =[]\n",
    "# pca =[]\n",
    "# pproc =[]\n",
    "# pwar =[]"
   ]
  },
  {
   "cell_type": "code",
   "execution_count": 6,
   "id": "1f0f36f2",
   "metadata": {},
   "outputs": [],
   "source": [
    "name = soup.find_all('div',class_ = '_4rR01T') \n",
    "for i in name :\n",
    "    try:\n",
    "        Name.append(i.text)\n",
    "    except:\n",
    "        Name.append(None)"
   ]
  },
  {
   "cell_type": "code",
   "execution_count": 7,
   "id": "0853514a",
   "metadata": {},
   "outputs": [],
   "source": [
    "#get rating of a product\n",
    "rating = soup.find_all('div',class_='_3LWZlK') \n",
    "# print(rating.text)\n",
    "for i in rating:\n",
    "    if i != float:\n",
    "        Usrt.append(i.text)\n",
    "    else:\n",
    "        print(\"ho raha he\")\n",
    "        pass"
   ]
  },
  {
   "cell_type": "code",
   "execution_count": 8,
   "id": "887df1db",
   "metadata": {},
   "outputs": [],
   "source": [
    "#get other details and specifications of the product\n",
    "specification=soup.find_all('div',class_=\"fMghEO\")\n",
    "for i in specification:\n",
    "    try:\n",
    "        Spcfn.append(i.text)\n",
    "    except:\n",
    "        Spcfn.append(None)\n"
   ]
  },
  {
   "cell_type": "code",
   "execution_count": 9,
   "id": "b30f95f0",
   "metadata": {},
   "outputs": [],
   "source": [
    "#get price of the product\n",
    "price=soup.find_all('div',class_='_30jeq3 _1_WHN1')\n",
    "for i in price:\n",
    "    try:\n",
    "        Price.append(i.text)\n",
    "    except:\n",
    "        Price.append(None)\n"
   ]
  },
  {
   "cell_type": "code",
   "execution_count": null,
   "id": "af963185",
   "metadata": {},
   "outputs": [],
   "source": [
    "pip install pandas"
   ]
  },
  {
   "cell_type": "code",
   "execution_count": 13,
   "id": "88756bd3",
   "metadata": {},
   "outputs": [
    {
     "name": "stdout",
     "output_type": "stream",
     "text": [
      "0\n",
      "24\n",
      "24\n",
      "39\n",
      "24\n"
     ]
    }
   ],
   "source": [
    "#printing the length of list\n",
    "import pandas as pd\n",
    "print(len(List))\n",
    "print(len(Name))\n",
    "print(len(Price))\n",
    "print(len(Usrt))\n",
    "print(len(Spcfn))\n",
    "# print(len(pwar))\n",
    "# print(len(pram))\n",
    "\n",
    "Name = pd.Series(Name)\n",
    "Price = pd.Series(Price)\n",
    "Usrt = pd.Series(Usrt)\n",
    "Spcfn = pd.Series(Spcfn)"
   ]
  },
  {
   "cell_type": "code",
   "execution_count": 15,
   "id": "d2da63f7",
   "metadata": {},
   "outputs": [
    {
     "data": {
      "text/html": [
       "<div>\n",
       "<style scoped>\n",
       "    .dataframe tbody tr th:only-of-type {\n",
       "        vertical-align: middle;\n",
       "    }\n",
       "\n",
       "    .dataframe tbody tr th {\n",
       "        vertical-align: top;\n",
       "    }\n",
       "\n",
       "    .dataframe thead th {\n",
       "        text-align: right;\n",
       "    }\n",
       "</style>\n",
       "<table border=\"1\" class=\"dataframe\">\n",
       "  <thead>\n",
       "    <tr style=\"text-align: right;\">\n",
       "      <th></th>\n",
       "      <th>Product Name</th>\n",
       "      <th>Price</th>\n",
       "      <th>Rating</th>\n",
       "      <th>Specification</th>\n",
       "    </tr>\n",
       "  </thead>\n",
       "  <tbody>\n",
       "    <tr>\n",
       "      <th>0</th>\n",
       "      <td>APPLE iPhone 11 (Black, 128 GB)</td>\n",
       "      <td>₹41,990</td>\n",
       "      <td>4.6</td>\n",
       "      <td>128 GB ROM15.49 cm (6.1 inch) Liquid Retina HD...</td>\n",
       "    </tr>\n",
       "    <tr>\n",
       "      <th>1</th>\n",
       "      <td>APPLE iPhone 11 (White, 128 GB)</td>\n",
       "      <td>₹42,990</td>\n",
       "      <td>4.6</td>\n",
       "      <td>128 GB ROM15.49 cm (6.1 inch) Liquid Retina HD...</td>\n",
       "    </tr>\n",
       "    <tr>\n",
       "      <th>2</th>\n",
       "      <td>APPLE iPhone 13 (Starlight, 128 GB)</td>\n",
       "      <td>₹58,990</td>\n",
       "      <td>4.7</td>\n",
       "      <td>128 GB ROM15.49 cm (6.1 inch) Super Retina XDR...</td>\n",
       "    </tr>\n",
       "    <tr>\n",
       "      <th>3</th>\n",
       "      <td>APPLE iPhone 11 (Purple, 128 GB)</td>\n",
       "      <td>₹41,990</td>\n",
       "      <td>4.6</td>\n",
       "      <td>128 GB ROM15.49 cm (6.1 inch) Liquid Retina HD...</td>\n",
       "    </tr>\n",
       "    <tr>\n",
       "      <th>4</th>\n",
       "      <td>APPLE iPhone 13 (Green, 128 GB)</td>\n",
       "      <td>₹57,990</td>\n",
       "      <td>4.7</td>\n",
       "      <td>128 GB ROM15.49 cm (6.1 inch) Super Retina XDR...</td>\n",
       "    </tr>\n",
       "    <tr>\n",
       "      <th>5</th>\n",
       "      <td>APPLE iPhone 11 (White, 64 GB)</td>\n",
       "      <td>₹36,990</td>\n",
       "      <td>4.6</td>\n",
       "      <td>64 GB ROM15.49 cm (6.1 inch) Liquid Retina HD ...</td>\n",
       "    </tr>\n",
       "    <tr>\n",
       "      <th>6</th>\n",
       "      <td>APPLE iPhone 11 (Black, 64 GB)</td>\n",
       "      <td>₹35,990</td>\n",
       "      <td>4.6</td>\n",
       "      <td>64 GB ROM15.49 cm (6.1 inch) Liquid Retina HD ...</td>\n",
       "    </tr>\n",
       "    <tr>\n",
       "      <th>7</th>\n",
       "      <td>APPLE iPhone 13 (Pink, 128 GB)</td>\n",
       "      <td>₹58,990</td>\n",
       "      <td>4.7</td>\n",
       "      <td>128 GB ROM15.49 cm (6.1 inch) Super Retina XDR...</td>\n",
       "    </tr>\n",
       "    <tr>\n",
       "      <th>8</th>\n",
       "      <td>APPLE iPhone 11 (Green, 128 GB)</td>\n",
       "      <td>₹41,990</td>\n",
       "      <td>4.6</td>\n",
       "      <td>128 GB ROM15.49 cm (6.1 inch) Liquid Retina HD...</td>\n",
       "    </tr>\n",
       "    <tr>\n",
       "      <th>9</th>\n",
       "      <td>APPLE MacBook Air M1 - (16 GB/256 GB SSD/Mac O...</td>\n",
       "      <td>₹1,02,890</td>\n",
       "      <td>4.7</td>\n",
       "      <td>Apple M1 Processor16 GB DDR4 RAMMac OS Operati...</td>\n",
       "    </tr>\n",
       "  </tbody>\n",
       "</table>\n",
       "</div>"
      ],
      "text/plain": [
       "                                        Product Name      Price Rating  \\\n",
       "0                    APPLE iPhone 11 (Black, 128 GB)    ₹41,990    4.6   \n",
       "1                    APPLE iPhone 11 (White, 128 GB)    ₹42,990    4.6   \n",
       "2                APPLE iPhone 13 (Starlight, 128 GB)    ₹58,990    4.7   \n",
       "3                   APPLE iPhone 11 (Purple, 128 GB)    ₹41,990    4.6   \n",
       "4                    APPLE iPhone 13 (Green, 128 GB)    ₹57,990    4.7   \n",
       "5                     APPLE iPhone 11 (White, 64 GB)    ₹36,990    4.6   \n",
       "6                     APPLE iPhone 11 (Black, 64 GB)    ₹35,990    4.6   \n",
       "7                     APPLE iPhone 13 (Pink, 128 GB)    ₹58,990    4.7   \n",
       "8                    APPLE iPhone 11 (Green, 128 GB)    ₹41,990    4.6   \n",
       "9  APPLE MacBook Air M1 - (16 GB/256 GB SSD/Mac O...  ₹1,02,890    4.7   \n",
       "\n",
       "                                       Specification  \n",
       "0  128 GB ROM15.49 cm (6.1 inch) Liquid Retina HD...  \n",
       "1  128 GB ROM15.49 cm (6.1 inch) Liquid Retina HD...  \n",
       "2  128 GB ROM15.49 cm (6.1 inch) Super Retina XDR...  \n",
       "3  128 GB ROM15.49 cm (6.1 inch) Liquid Retina HD...  \n",
       "4  128 GB ROM15.49 cm (6.1 inch) Super Retina XDR...  \n",
       "5  64 GB ROM15.49 cm (6.1 inch) Liquid Retina HD ...  \n",
       "6  64 GB ROM15.49 cm (6.1 inch) Liquid Retina HD ...  \n",
       "7  128 GB ROM15.49 cm (6.1 inch) Super Retina XDR...  \n",
       "8  128 GB ROM15.49 cm (6.1 inch) Liquid Retina HD...  \n",
       "9  Apple M1 Processor16 GB DDR4 RAMMac OS Operati...  "
      ]
     },
     "execution_count": 15,
     "metadata": {},
     "output_type": "execute_result"
    }
   ],
   "source": [
    "df=pd.DataFrame({'Product Name':Name,'Price':Price,'Rating':Usrt,'Specification':Spcfn})\n",
    "df.head(10)"
   ]
  },
  {
   "cell_type": "code",
   "execution_count": null,
   "id": "fb83b782",
   "metadata": {},
   "outputs": [],
   "source": [
    "# from google.colab import files\n",
    "\n",
    "df.to_csv('flipkart.csv', encoding = 'utf-8-sig') \n",
    "# files.download('flipkart.csv')"
   ]
  }
 ],
 "metadata": {
  "kernelspec": {
   "display_name": "Python 3 (ipykernel)",
   "language": "python",
   "name": "python3"
  },
  "language_info": {
   "codemirror_mode": {
    "name": "ipython",
    "version": 3
   },
   "file_extension": ".py",
   "mimetype": "text/x-python",
   "name": "python",
   "nbconvert_exporter": "python",
   "pygments_lexer": "ipython3",
   "version": "3.8.10"
  },
  "vscode": {
   "interpreter": {
    "hash": "916dbcbb3f70747c44a77c7bcd40155683ae19c65e1c03b4aa3499c5328201f1"
   }
  }
 },
 "nbformat": 4,
 "nbformat_minor": 5
}
